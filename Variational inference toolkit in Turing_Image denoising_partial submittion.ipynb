{
 "cells": [
  {
   "cell_type": "code",
   "execution_count": 1,
   "metadata": {},
   "outputs": [],
   "source": [
    "using Pkg\n",
    "# Pkg.add(\"Images\")\n",
    "# Pkg.add(\"ImageIO\")\n",
    "# Pkg.add(\"Colors\")\n",
    "# Pkg.add(\"Statistics\")\n",
    "# Pkg.add(\"Random\")\n",
    "# Pkg.add(\"Turing\")\n",
    "# Pkg.add(\"ImageMagick\")"
   ]
  },
  {
   "cell_type": "code",
   "execution_count": 2,
   "metadata": {},
   "outputs": [],
   "source": [
    "#Necessary packages for Image management\n",
    "using Images\n",
    "using ImageIO\n",
    "using Colors\n",
    "using Statistics\n",
    "\n",
    "#Packages for variational inference\n",
    "using Random\n",
    "using Turing\n",
    "using Turing: Variational"
   ]
  },
  {
   "cell_type": "code",
   "execution_count": 3,
   "metadata": {},
   "outputs": [
    {
     "data": {
      "text/plain": [
       "(3, 310, 419)"
      ]
     },
     "execution_count": 3,
     "metadata": {},
     "output_type": "execute_result"
    }
   ],
   "source": [
    "#constructing binary image out of bayes.bmp\n",
    "\n",
    "data = load(\"./bayes.bmp\");\n",
    "img_CHW = channelview(data);\n",
    "(L,M,N)=size(img_CHW)\n",
    "img_color=zeros(M,N);\n",
    "img_color=img_CHW[2,:,:];\n",
    "mat = convert(Array{Float64}, img_color);\n",
    "sum=0;\n",
    "for i in 1:M\n",
    "    for j in 1:N\n",
    "        sum=sum+mat[i,j]\n",
    "    end\n",
    "end\n",
    "img_mean=sum/(M*N)\n",
    "img_binary = zeros(M,N);\n",
    "for i in 1:M\n",
    "    for j in 1:N\n",
    "        if(mat[i,j]>img_mean)\n",
    "            img_binary[i,j]=1;\n",
    "        else\n",
    "            img_binary[i,j]=-1;\n",
    "        end   \n",
    "    end\n",
    "end\n",
    "newim=zeros(50,50);\n",
    "for i in 1:50\n",
    "    for j in 1:50\n",
    "        newim[i,j]=img_binary[i+70,j+130]\n",
    "    end\n",
    "end\n",
    "img_bw=Gray.(newim);\n",
    "img_bw"
   ]
  },
  {
   "cell_type": "code",
   "execution_count": 5,
   "metadata": {},
   "outputs": [],
   "source": [
    "#Our sample image is a small part of the binary image to save computation time\n",
    "img_bw2=Gray.(img_binary);\n",
    "img_bw2\n",
    "M=50;\n",
    "N=50;"
   ]
  },
  {
   "cell_type": "code",
   "execution_count": 6,
   "metadata": {},
   "outputs": [
    {
     "data": {
      "image/png": "[encoded data removed]",
      "text/plain": [
       "50×50 Array{Gray{Float64},2} with eltype Gray{Float64}:\n",
       " Gray{Float64}(0.860234)   …  Gray{Float64}(0.990479)\n",
       " Gray{Float64}(0.94551)       Gray{Float64}(2.36313)\n",
       " Gray{Float64}(1.14262)       Gray{Float64}(1.25718)\n",
       " Gray{Float64}(1.14197)       Gray{Float64}(0.457193)\n",
       " Gray{Float64}(0.796166)      Gray{Float64}(0.515718)\n",
       " Gray{Float64}(0.890947)   …  Gray{Float64}(0.393348)\n",
       " Gray{Float64}(1.01224)       Gray{Float64}(1.81682)\n",
       " Gray{Float64}(0.213162)      Gray{Float64}(0.918072)\n",
       " Gray{Float64}(0.521269)      Gray{Float64}(0.852232)\n",
       " Gray{Float64}(1.03657)       Gray{Float64}(0.974524)\n",
       " Gray{Float64}(1.16577)    …  Gray{Float64}(0.856009)\n",
       " Gray{Float64}(1.11844)       Gray{Float64}(0.462423)\n",
       " Gray{Float64}(0.884791)      Gray{Float64}(0.480918)\n",
       " ⋮                         ⋱  \n",
       " Gray{Float64}(-1.3508)       Gray{Float64}(-1.84526)\n",
       " Gray{Float64}(-2.03319)      Gray{Float64}(-1.11046)\n",
       " Gray{Float64}(-0.538275)  …  Gray{Float64}(-0.979175)\n",
       " Gray{Float64}(-0.960734)     Gray{Float64}(-1.47584)\n",
       " Gray{Float64}(-1.10461)      Gray{Float64}(-0.6011)\n",
       " Gray{Float64}(-0.74725)      Gray{Float64}(-0.597499)\n",
       " Gray{Float64}(-1.89989)      Gray{Float64}(-1.10093)\n",
       " Gray{Float64}(-1.29809)   …  Gray{Float64}(-0.593839)\n",
       " Gray{Float64}(-0.480732)     Gray{Float64}(-0.630724)\n",
       " Gray{Float64}(-1.16995)      Gray{Float64}(-1.11141)\n",
       " Gray{Float64}(-0.902442)     Gray{Float64}(-0.203379)\n",
       " Gray{Float64}(-0.727888)     Gray{Float64}(-1.16316)"
      ]
     },
     "execution_count": 6,
     "metadata": {},
     "output_type": "execute_result"
    }
   ],
   "source": [
    "#constructing noisy image\n",
    "noise=randn(M,N)\n",
    "img_noisya=newim+0.5*noise;\n",
    "img_noisy=Gray.(img_noisya);\n",
    "img_noisy"
   ]
  },
  {
   "cell_type": "code",
   "execution_count": 7,
   "metadata": {},
   "outputs": [],
   "source": []
  },
  {
   "cell_type": "code",
   "execution_count": 8,
   "metadata": {},
   "outputs": [],
   "source": [
    "#Input to imagae denoising\n",
    "#noisy image\n",
    "#image: img_noisy\n",
    "#array: img_noisya"
   ]
  },
  {
   "cell_type": "code",
   "execution_count": 9,
   "metadata": {},
   "outputs": [],
   "source": [
    "x=img_noisya;\n",
    "xlin=reshape(x, (M*N));"
   ]
  },
  {
   "cell_type": "code",
   "execution_count": 13,
   "metadata": {},
   "outputs": [],
   "source": [
    "#Constructing model of Image denoising\n",
    "#Needs improvemtnt adding Ising model logic for VI\n",
    "@model model(x) =begin\n",
    "m ~ MvNormal(0.5*ones(M*N), 0.2*ones(M*N))\n",
    "\n",
    "for i=1:M*N\n",
    "    x[i] ~ Normal(m[i],0.01)\n",
    "end \n",
    "end;"
   ]
  },
  {
   "cell_type": "code",
   "execution_count": 14,
   "metadata": {},
   "outputs": [],
   "source": [
    "m=model(xlin); #Loading data to model"
   ]
  },
  {
   "cell_type": "code",
   "execution_count": 15,
   "metadata": {},
   "outputs": [
    {
     "name": "stderr",
     "output_type": "stream",
     "text": [
      "┌ Info: [ADVI] Should only be seen once: optimizer created for θ\n",
      "│   objectid(θ) = 7159547295955620583\n",
      "└ @ Turing.Variational C:\\Users\\Aswin Paul\\.julia\\packages\\Turing\\GMBTf\\src\\variational\\VariationalInference.jl:204\n",
      "\u001b[32m[ADVI] Optimizing...: 100%|█████████████████████████████████████████| Time: 1:11:08\u001b[39m\n"
     ]
    }
   ],
   "source": [
    "#Performing Variational Inference\n",
    "advi = ADVI(5, 200)\n",
    "q = vi(m, advi);"
   ]
  },
  {
   "cell_type": "code",
   "execution_count": 16,
   "metadata": {},
   "outputs": [
    {
     "data": {
      "text/plain": [
       "Bijectors.TransformedDistribution{DistributionsAD.TuringDiagMvNormal{Array{Float64,1},Array{Float64,1}},Bijectors.Stacked{Tuple{Bijectors.Identity{1}},1},Multivariate}"
      ]
     },
     "execution_count": 16,
     "metadata": {},
     "output_type": "execute_result"
    }
   ],
   "source": [
    "typeof(q)"
   ]
  },
  {
   "cell_type": "code",
   "execution_count": 18,
   "metadata": {},
   "outputs": [
    {
     "data": {
      "image/png": "[encoded data removed]",
      "text/plain": [
       "50×50 Array{Gray{Float64},2} with eltype Gray{Float64}:\n",
       " Gray{Float64}(0.808883)     …  Gray{Float64}(0.818888)\n",
       " Gray{Float64}(0.946095)        Gray{Float64}(2.24515)\n",
       " Gray{Float64}(0.919848)        Gray{Float64}(1.2969)\n",
       " Gray{Float64}(1.06123)         Gray{Float64}(0.930573)\n",
       " Gray{Float64}(0.75633)         Gray{Float64}(0.511557)\n",
       " Gray{Float64}(0.838825)     …  Gray{Float64}(0.338531)\n",
       " Gray{Float64}(1.1334)          Gray{Float64}(1.71528)\n",
       " Gray{Float64}(0.00865661)      Gray{Float64}(0.900499)\n",
       " Gray{Float64}(0.463469)        Gray{Float64}(1.2918)\n",
       " Gray{Float64}(-0.00786646)     Gray{Float64}(1.14768)\n",
       " Gray{Float64}(0.862293)     …  Gray{Float64}(0.716915)\n",
       " Gray{Float64}(1.27073)         Gray{Float64}(0.480424)\n",
       " Gray{Float64}(0.742846)        Gray{Float64}(0.315426)\n",
       " ⋮                           ⋱  \n",
       " Gray{Float64}(-0.550098)       Gray{Float64}(-2.05177)\n",
       " Gray{Float64}(-1.39613)        Gray{Float64}(-1.09186)\n",
       " Gray{Float64}(-0.642468)    …  Gray{Float64}(-0.331451)\n",
       " Gray{Float64}(-1.14304)        Gray{Float64}(-1.55108)\n",
       " Gray{Float64}(-0.479446)       Gray{Float64}(-0.674254)\n",
       " Gray{Float64}(-0.691294)       Gray{Float64}(-0.47082)\n",
       " Gray{Float64}(-1.29034)        Gray{Float64}(-2.0806)\n",
       " Gray{Float64}(-1.38295)     …  Gray{Float64}(0.210077)\n",
       " Gray{Float64}(-0.571617)       Gray{Float64}(-0.617702)\n",
       " Gray{Float64}(-1.23366)        Gray{Float64}(-1.07644)\n",
       " Gray{Float64}(-0.845976)       Gray{Float64}(0.326757)\n",
       " Gray{Float64}(-0.812831)       Gray{Float64}(-0.578886)"
      ]
     },
     "execution_count": 18,
     "metadata": {},
     "output_type": "execute_result"
    }
   ],
   "source": [
    "#output\n",
    "yy=rand(q);\n",
    "yyy=reshape(yy,(M,N))\n",
    "img_yy=Gray.(yyy);\n",
    "img_yy"
   ]
  },
  {
   "cell_type": "code",
   "execution_count": null,
   "metadata": {},
   "outputs": [],
   "source": [
    "#! Comment : This output could manage only to construct back a similar image to the noist input by using variational inference. Needs Imporvement."
   ]
  }
 ],
 "metadata": {
  "kernelspec": {
   "display_name": "Julia 1.4.2",
   "language": "julia",
   "name": "julia-1.4"
  },
  "language_info": {
   "file_extension": ".jl",
   "mimetype": "application/julia",
   "name": "julia",
   "version": "1.4.2"
  }
 },
 "nbformat": 4,
 "nbformat_minor": 2
}
